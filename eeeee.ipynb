{
 "cells": [
  {
   "cell_type": "code",
   "execution_count": 1,
   "metadata": {},
   "outputs": [
    {
     "name": "stdout",
     "output_type": "stream",
     "text": [
      "Alignment: ['amp', 'exa', 'mpl', 'ple', 'xam']\n",
      "Alignment Skip: [('amp', 2), ('ete', 1), ('exa', 2), ('ext', 1), ('for', 1), ('let', 1), ('mpl', 2), ('ore', 1), ('ple', 2), ('rex', 1), ('tex', 1), ('tfo', 1), ('xam', 2), ('xtf', 1)]\n",
      "Match Indices: [0, 4, 10, 13, 18]\n"
     ]
    }
   ],
   "source": [
    "def cmpfunc(x, y):\n",
    "    return int(x['suffix'] > y['suffix']) - int(x['suffix'] < y['suffix'])\n",
    "\n",
    "def compute_suffix_array(input_text):\n",
    "    len_text = len(input_text)\n",
    "    suff = [{'index': i, 'suffix': input_text[i:]} for i in range(len_text)]\n",
    "    \n",
    "    suff.sort(key=lambda x: x['suffix'])\n",
    "\n",
    "    suffix_arr = [s['suffix'] for s in suff]\n",
    "\n",
    "    return suffix_arr\n",
    "\n",
    "def find_valid_pairs(suffix_arr, k):\n",
    "    curr_count = 1\n",
    "    n = len(suffix_arr)\n",
    "    prev_suff = \"\"\n",
    "    alignment = []\n",
    "    alignment_skip = []\n",
    "    match_indices = []\n",
    "\n",
    "    for i in range(n):\n",
    "        if len(suffix_arr[i]) < k:\n",
    "            if i != 0 and len(prev_suff) == k:\n",
    "                alignment_skip.append((prev_suff, curr_count))\n",
    "                curr_count = 1\n",
    "            prev_suff = suffix_arr[i]\n",
    "            continue\n",
    "\n",
    "        if prev_suff[:k] == suffix_arr[i][:k]:\n",
    "            curr_count += 1\n",
    "            alignment.append(prev_suff[:k])\n",
    "            match_indices.append(i - 1)  # Store the match index\n",
    "        else:\n",
    "            if i != 0 and len(prev_suff) == k:\n",
    "                alignment_skip.append((prev_suff, curr_count))\n",
    "                curr_count = 1\n",
    "                prev_suff = suffix_arr[i][:k]\n",
    "            else:\n",
    "                prev_suff = suffix_arr[i][:k]\n",
    "                continue\n",
    "\n",
    "        prev_suff = suffix_arr[i][:k]\n",
    "\n",
    "    if len(prev_suff) == k:\n",
    "        alignment_skip.append((prev_suff, curr_count))\n",
    "\n",
    "    return alignment, alignment_skip, match_indices\n",
    "\n",
    "# Example usage:\n",
    "text = \"exampletextforexample\"\n",
    "suffix_array = compute_suffix_array(text)\n",
    "alignment, alignment_skip, match_indices = find_valid_pairs(suffix_array, 3)\n",
    "\n",
    "print(\"Alignment:\", alignment)\n",
    "print(\"Alignment Skip:\", alignment_skip)\n",
    "print(\"Match Indices:\", match_indices)"
   ]
  }
 ],
 "metadata": {
  "kernelspec": {
   "display_name": "base",
   "language": "python",
   "name": "python3"
  },
  "language_info": {
   "codemirror_mode": {
    "name": "ipython",
    "version": 3
   },
   "file_extension": ".py",
   "mimetype": "text/x-python",
   "name": "python",
   "nbconvert_exporter": "python",
   "pygments_lexer": "ipython3",
   "version": "3.11.5"
  }
 },
 "nbformat": 4,
 "nbformat_minor": 2
}
