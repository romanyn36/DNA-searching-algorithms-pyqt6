{
 "cells": [
  {
   "cell_type": "markdown",
   "metadata": {},
   "source": [
    "# Imports"
   ]
  },
  {
   "cell_type": "code",
   "execution_count": 26,
   "metadata": {},
   "outputs": [],
   "source": [
    "from BoyerMoore import cBoyerMoore, boyer_moore_algo\n",
    "from kmp import KMPSearch\n",
    "from naive import naive\n",
    "from suffixAarrays import suffixAarrays\n",
    "from kmer import find_valid_pairs,compute_suffix_array"
   ]
  },
  {
   "cell_type": "markdown",
   "metadata": {},
   "source": [
    "## BoyerMoore"
   ]
  },
  {
   "cell_type": "code",
   "execution_count": 27,
   "metadata": {},
   "outputs": [
    {
     "data": {
      "text/plain": [
       "([0, 10, 15], 9, 2)"
      ]
     },
     "execution_count": 27,
     "metadata": {},
     "output_type": "execute_result"
    }
   ],
   "source": [
    "# usage parameters\n",
    "p='ABAB'\n",
    "t= 'ABABDABACDABABCABAB' # or file.fasta\n",
    "\n",
    "indx_matched_boyermoore=boyer_moore_algo(p,t) # result index here\n",
    "indx_matched_boyermoore\n"
   ]
  },
  {
   "cell_type": "markdown",
   "metadata": {},
   "source": [
    "## KMP"
   ]
  },
  {
   "cell_type": "code",
   "execution_count": 28,
   "metadata": {},
   "outputs": [
    {
     "data": {
      "text/plain": [
       "([0, 10, 15], 15, 7)"
      ]
     },
     "execution_count": 28,
     "metadata": {},
     "output_type": "execute_result"
    }
   ],
   "source": [
    "\n",
    "# usage parameters\n",
    "p='ABAB'\n",
    "t= 'ABABDABACDABABCABAB' # or file.fasta\n",
    "indx_matched_KMP=KMPSearch(p,t)\n",
    "indx_matched_KMP"
   ]
  },
  {
   "cell_type": "markdown",
   "metadata": {},
   "source": [
    "## naive"
   ]
  },
  {
   "cell_type": "code",
   "execution_count": 29,
   "metadata": {},
   "outputs": [
    {
     "data": {
      "text/plain": [
       "([0, 10, 15], 33)"
      ]
     },
     "execution_count": 29,
     "metadata": {},
     "output_type": "execute_result"
    }
   ],
   "source": [
    "# usage parameters\n",
    "p='ABAB'\n",
    "t= 'ABABDABACDABABCABAB' # or file.fasta\n",
    "\n",
    "indx_matched_naive = naive(p, t)\n",
    "indx_matched_naive"
   ]
  },
  {
   "cell_type": "code",
   "execution_count": null,
   "metadata": {},
   "outputs": [],
   "source": []
  },
  {
   "cell_type": "markdown",
   "metadata": {},
   "source": [
    "## suffixAarrays"
   ]
  },
  {
   "cell_type": "code",
   "execution_count": 30,
   "metadata": {},
   "outputs": [
    {
     "data": {
      "text/plain": [
       "[['ACGACTACGATAAC$', 0, 3],\n",
       " ['CGACTACGATAAC$', 1, 8],\n",
       " ['GACTACGATAAC$', 2, 11],\n",
       " ['ACTACGATAAC$', 3, 5],\n",
       " ['CTACGATAAC$', 4, 10],\n",
       " ['TACGATAAC$', 5, 14],\n",
       " ['ACGATAAC$', 6, 4],\n",
       " ['CGATAAC$', 7, 9],\n",
       " ['GATAAC$', 8, 12],\n",
       " ['ATAAC$', 9, 6],\n",
       " ['TAAC$', 10, 13],\n",
       " ['AAC$', 11, 1],\n",
       " ['AC$', 12, 2],\n",
       " ['C$', 13, 7],\n",
       " ['$', 14, 0]]"
      ]
     },
     "execution_count": 30,
     "metadata": {},
     "output_type": "execute_result"
    }
   ],
   "source": [
    "# usage parameters\n",
    "p='ABAB'\n",
    "t= 'ABABDABACDABABCABAB' # or file.fasta\n",
    "\n",
    "T=\"ACGACTACGATAAC$\"\n",
    "s=suffixAarrays(T)\n",
    "s"
   ]
  },
  {
   "cell_type": "code",
   "execution_count": 31,
   "metadata": {},
   "outputs": [
    {
     "name": "stdout",
     "output_type": "stream",
     "text": [
      "['ACGACTACGATAAC$, 0, 3', 'CGACTACGATAAC$, 1, 8', 'GACTACGATAAC$, 2, 11', 'ACTACGATAAC$, 3, 5', 'CTACGATAAC$, 4, 10', 'TACGATAAC$, 5, 14', 'ACGATAAC$, 6, 4', 'CGATAAC$, 7, 9', 'GATAAC$, 8, 12', 'ATAAC$, 9, 6', 'TAAC$, 10, 13', 'AAC$, 11, 1', 'AC$, 12, 2', 'C$, 13, 7', '$, 14, 0']\n"
     ]
    }
   ],
   "source": [
    "original_list = [['ACGACTACGATAAC$', 0, 3],\n",
    " ['CGACTACGATAAC$', 1, 8],\n",
    " ['GACTACGATAAC$', 2, 11],\n",
    " ['ACTACGATAAC$', 3, 5],\n",
    " ['CTACGATAAC$', 4, 10],\n",
    " ['TACGATAAC$', 5, 14],\n",
    " ['ACGATAAC$', 6, 4],\n",
    " ['CGATAAC$', 7, 9],\n",
    " ['GATAAC$', 8, 12],\n",
    " ['ATAAC$', 9, 6],\n",
    " ['TAAC$', 10, 13],\n",
    " ['AAC$', 11, 1],\n",
    " ['AC$', 12, 2],\n",
    " ['C$', 13, 7],\n",
    " ['$', 14, 0]]\n",
    "\n",
    "# Convert each sublist to a string\n",
    "result_list = [', '.join(map(str, sublist)) for sublist in original_list]\n",
    "# Print the result\n",
    "print(result_list)"
   ]
  },
  {
   "cell_type": "code",
   "execution_count": 32,
   "metadata": {},
   "outputs": [
    {
     "name": "stdout",
     "output_type": "stream",
     "text": [
      "\n"
     ]
    }
   ],
   "source": [
    "print('\\n'.join(() ))"
   ]
  },
  {
   "cell_type": "markdown",
   "metadata": {},
   "source": [
    "## K-Mers"
   ]
  },
  {
   "cell_type": "code",
   "execution_count": 33,
   "metadata": {},
   "outputs": [
    {
     "name": "stdout",
     "output_type": "stream",
     "text": [
      "Input Text: banana$\n",
      "k-Mers: \n"
     ]
    },
    {
     "data": {
      "text/plain": [
       "[('a$', 1), ('an', 2), ('ba', 1), ('na', 2)]"
      ]
     },
     "execution_count": 33,
     "metadata": {},
     "output_type": "execute_result"
    }
   ],
   "source": [
    "input_text = \"banana$\"\n",
    "k = 2\n",
    "\n",
    "# Compute the suffix array of the text\n",
    "print(\"Input Text:\", input_text)\n",
    "suffix_arr = compute_suffix_array(input_text)\n",
    "\n",
    "# Find and output all valid pairs\n",
    "print(\"k-Mers: \")\n",
    "m=find_valid_pairs(suffix_arr, k)\n",
    "m\n"
   ]
  },
  {
   "cell_type": "code",
   "execution_count": 42,
   "metadata": {},
   "outputs": [
    {
     "data": {
      "text/plain": [
       "['a$, 1', 'an, 2', 'ba, 1', 'na, 2']"
      ]
     },
     "execution_count": 42,
     "metadata": {},
     "output_type": "execute_result"
    }
   ],
   "source": [
    "m\n",
    "res=[', '.join(map(str, sublist)) for sublist in m]\n",
    "res"
   ]
  },
  {
   "cell_type": "markdown",
   "metadata": {},
   "source": [
    "# approximate Function"
   ]
  },
  {
   "cell_type": "code",
   "execution_count": 35,
   "metadata": {},
   "outputs": [],
   "source": [
    "# matches passed from result of algorithm : in gui -> button to call \n",
    "# and n parameter passed from gui ( text box with check validation )\n",
    "\n",
    "def approximate_match_pigeonhole(p,t,matches,holes=1):\n",
    "    segment_len = int(round(len(p) / (holes+1)))\n",
    "    all_matches =set()\n",
    "    for i in range(holes+1):\n",
    "        start = i * segment_len\n",
    "        end = min((i+1)*segment_len,len(p))\n",
    "        for m in matches:\n",
    "            if (m < start) or (m -start+len(p) > len(t)) : continue\n",
    "            mismatches = 0\n",
    "            for j in range(0,start):\n",
    "                if not p[j] == t[m-start+j]:\n",
    "                    mismatches +=1 \n",
    "                    if (mismatches > holes): break\n",
    "            for  j in range(end,len(p)):\n",
    "                if not p[j] == t[m-start+j ] :\n",
    "                    mismatches +=1 \n",
    "                    if (mismatches > holes): break\n",
    "            if mismatches <= holes :\n",
    "                all_matches.add(m-start)\n",
    "    return list (all_matches) , mismatches\n",
    "\n",
    "# ==============================================\n",
    "\n",
    "def naiveHamming(p,t,maxDist):\n",
    "    occ = []\n",
    "    for i in range( len(t) -len(p) +1):\n",
    "        nmm=0\n",
    "        match=True\n",
    "        for j in range(len(p)):\n",
    "            if t[i+j] != p[j]:\n",
    "                nmm+=1\n",
    "                if nmm > maxDist:\n",
    "                    break\n",
    "        if nmm <= maxDist:\n",
    "            occ.append(i)\n",
    "    return occ\n",
    "\n",
    "\n",
    "\n",
    "# ==============================================\n",
    "def edit_distance_dp(x, y):\n",
    "    D = []\n",
    "    # init with zeros\n",
    "    for i in range(len(x) + 1):\n",
    "        D.append([0] * (len(y) + 1))\n",
    "    # init epsilon col and row\n",
    "    for i in range(len(x) + 1):\n",
    "        D[i][0] = i\n",
    "    for i in range(len(y) + 1):\n",
    "        D[0][i] = i\n",
    "\n",
    "    for i in range(1, len(x) + 1):\n",
    "        for j in range(1, len(y) + 1):\n",
    "            indx_Hor = D[i][j - 1] + 1\n",
    "            indx_Ver = D[i - 1][j] + 1\n",
    "            # for diagonal\n",
    "            if x[i - 1] == y[j - 1]:\n",
    "                indx_Diag = D[i - 1][j - 1]\n",
    "            else:\n",
    "                indx_Diag = D[i - 1][j - 1] + 1\n",
    "\n",
    "            D[i][j] = min(indx_Diag, indx_Hor, indx_Ver)\n",
    "\n",
    "    # Backtrack to reconstruct modified strings x and y\n",
    "    i, j = len(x), len(y)\n",
    "    modified_x, modified_y = [], []\n",
    "\n",
    "    while i > 0 or j > 0:\n",
    "        if i > 0 and j > 0 and x[i - 1] == y[j - 1]:\n",
    "            modified_x.append(x[i - 1])\n",
    "            modified_y.append(y[j - 1])\n",
    "            i -= 1\n",
    "            j -= 1\n",
    "        elif i > 0 and D[i][j] == D[i - 1][j] + 1:\n",
    "            modified_x.append(x[i - 1])\n",
    "            modified_y.append('_')  # Placeholder for insertion in y\n",
    "            i -= 1\n",
    "        else:\n",
    "            modified_x.append('_')  # Placeholder for insertion in x\n",
    "            modified_y.append(y[j - 1])\n",
    "            j -= 1\n",
    "\n",
    "    modified_x.reverse()\n",
    "    modified_y.reverse()\n",
    "\n",
    "    # Return minimum edit distance and modified strings\n",
    "    return D[-1][-1], ''.join(modified_x), ''.join(modified_y)\n",
    "\n",
    "\n"
   ]
  },
  {
   "cell_type": "code",
   "execution_count": 36,
   "metadata": {},
   "outputs": [
    {
     "name": "stdout",
     "output_type": "stream",
     "text": [
      "([0, 10, 15], 2)\n"
     ]
    }
   ],
   "source": [
    "# how use\n",
    "p='ABAB'\n",
    "t='ABABDABACDABABCABAB'\n",
    "print(approximate_match_pigeonhole(p,t,indx_matched_boyermoore[0]))"
   ]
  },
  {
   "cell_type": "code",
   "execution_count": 37,
   "metadata": {},
   "outputs": [
    {
     "data": {
      "text/plain": [
       "(15, '_______________ABAB', 'ABABDABACDABABCABAB')"
      ]
     },
     "execution_count": 37,
     "metadata": {},
     "output_type": "execute_result"
    }
   ],
   "source": [
    "edit_distance_dp(p, t)"
   ]
  }
 ],
 "metadata": {
  "kernelspec": {
   "display_name": "Python 3",
   "language": "python",
   "name": "python3"
  },
  "language_info": {
   "codemirror_mode": {
    "name": "ipython",
    "version": 3
   },
   "file_extension": ".py",
   "mimetype": "text/x-python",
   "name": "python",
   "nbconvert_exporter": "python",
   "pygments_lexer": "ipython3",
   "version": "3.11.5"
  }
 },
 "nbformat": 4,
 "nbformat_minor": 2
}
